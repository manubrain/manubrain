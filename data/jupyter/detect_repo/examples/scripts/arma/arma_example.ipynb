{
 "cells": [
  {
   "cell_type": "markdown",
   "metadata": {},
   "source": [
    "## Time series Anomalies with Fischertechnik Training Factory\n",
    "I want to find non-nominal time series within a set of time series. This is a difficult task: The time series might be of different length, key events might happen at different times and I do not inject any deeper knowledge of the system into my model. For example, I do not filter out sensor readings, that are irrelevant, nor do I specify or cater to certain events.\n",
    "\n",
    "### Input Data\n",
    "For input data I recorded the sensor data of the Training Factory. Each of its four controllers has eight input ports where different sensors (switches, lightsensors ...) are connected. They are reported every second, if the sensor readings changed. \n",
    "\n",
    "Eight different time series are saved as csv-Files in /training_factory_timeseries/. `data_loader.py` reads thoses timeseries and does some basic preprocessing. The time series are expanded such that every second has a datapoint that is filled with the value of the previous regular report of the data."
   ]
  },
  {
   "cell_type": "markdown",
   "metadata": {},
   "source": [
    "### ARMA Anomaly Detection\n",
    "\n",
    "This is a very basic way to differentiate the different time series: For each time series, we estimate an ARMA (Autoregressive–moving-average) that best fits it. Next, we compare how different the estimated parameters are, that define the ARMA model. They are defined by the AR- and MA- parameters. We specific the dimension of each part as `coeff_qp`.\n",
    "\n",
    "I packed everything into the `arma_helper.py`. The models for the below mentioned parameter combinations are already calculated and can be load with passing `load=True`.\n",
    "\n",
    "To visualize, I use PCA to project the multidimensional ARMA parameters to three dimensions. The two anomalies are visualized as boxes, the nominal time series as spheres. Also, I provide a bar plot that shows the calculated average distance from each time series to all other. There, the anomalies are coloured red."
   ]
  },
  {
   "cell_type": "code",
   "execution_count": null,
   "metadata": {},
   "outputs": [],
   "source": [
    "import arma_helper"
   ]
  },
  {
   "cell_type": "code",
   "execution_count": null,
   "metadata": {},
   "outputs": [],
   "source": [
    "coeff_qp = [1,1]\n",
    "arma_estimates = arma_helper.estimate(coeff_qp=coeff_qp, save=False, load=True)\n",
    "arma_helper.visualize(arma_estimates, 'ARMA Estimates with [q,p] = ' + str(coeff_qp))\n",
    "arma_helper.print_avg_distance(arma_estimates, 'Average Distances with [q,p] = ' + str(coeff_qp))"
   ]
  },
  {
   "cell_type": "code",
   "execution_count": null,
   "metadata": {},
   "outputs": [],
   "source": [
    "coeff_qp = [2,2]\n",
    "arma_estimates = arma_helper.estimate(coeff_qp=coeff_qp, save=False, load=True)\n",
    "arma_helper.visualize(arma_estimates, 'ARMA Estimates with [q,p] = ' + str(coeff_qp))\n",
    "arma_helper.print_avg_distance(arma_estimates, 'Average Distances with [q,p] = ' + str(coeff_qp))"
   ]
  },
  {
   "cell_type": "code",
   "execution_count": null,
   "metadata": {},
   "outputs": [],
   "source": [
    "coeff_qp = [4,4]\n",
    "arma_estimates = arma_helper.estimate(coeff_qp=coeff_qp, save=False, load=True)\n",
    "arma_helper.visualize(arma_estimates, 'ARMA Estimates with [q,p] = ' + str(coeff_qp))\n",
    "arma_helper.print_avg_distance(arma_estimates, 'Average Distances with [q,p] = ' + str(coeff_qp))"
   ]
  },
  {
   "cell_type": "code",
   "execution_count": null,
   "metadata": {},
   "outputs": [],
   "source": [
    "coeff_qp = [8,4]\n",
    "arma_estimates = arma_helper.estimate(coeff_qp=coeff_qp, save=False, load=True)\n",
    "arma_helper.visualize(arma_estimates, 'ARMA Estimates with [q,p] = ' + str(coeff_qp))\n",
    "arma_helper.print_avg_distance(arma_estimates, 'Average Distances with [q,p] = ' + str(coeff_qp))"
   ]
  },
  {
   "cell_type": "markdown",
   "metadata": {},
   "source": [
    "#### ARMA Results\n",
    "\n",
    "Anomaly 6 somewhat sticks out, but neither distinctly nor reliably. It is not really surprising, that this kind of Anomaly Detection does not yield good results for this kind of data. The progression of data is not really dependent on the immediate past, but rather on a (hidden) progression of the phases of the system."
   ]
  }
 ],
 "metadata": {
  "language_info": {
   "codemirror_mode": {
    "name": "ipython",
    "version": 3
   },
   "file_extension": ".py",
   "mimetype": "text/x-python",
   "name": "python",
   "nbconvert_exporter": "python",
   "pygments_lexer": "ipython3",
   "version": "3.7.7-final"
  },
  "orig_nbformat": 2,
  "kernelspec": {
   "name": "python37764bitex37condad8e919f2ba414e0980b7c55afdbfd233",
   "display_name": "Python 3.7.7 64-bit ('ex_37': conda)"
  }
 },
 "nbformat": 4,
 "nbformat_minor": 2
}