{
 "cells": [
  {
   "cell_type": "code",
   "execution_count": 1,
   "id": "0115b082",
   "metadata": {},
   "outputs": [
    {
     "name": "stdout",
     "output_type": "stream",
     "text": [
      "Using matplotlib backend: TkAgg\n",
      "Populating the interactive namespace from numpy and matplotlib\n"
     ]
    }
   ],
   "source": [
    "%pylab"
   ]
  },
  {
   "cell_type": "code",
   "execution_count": 2,
   "id": "dadccf6f",
   "metadata": {},
   "outputs": [],
   "source": [
    "import pandas as pd"
   ]
  },
  {
   "cell_type": "markdown",
   "id": "c107ac71",
   "metadata": {},
   "source": [
    "Download and load a timeseries from the Yahoo dataset."
   ]
  },
  {
   "cell_type": "code",
   "execution_count": 3,
   "id": "493da378",
   "metadata": {},
   "outputs": [],
   "source": [
    "from mb_detect.dataloader.ds_loader import yahoo_data\n",
    "\n",
    "#if mb_detect is not yet installed, uncomment the following lines instead of the import:\n",
    "#def yahoo_data(file_path):\n",
    "#    df = pd.read_csv(file_path)\n",
    "#    df = df.rename(columns={\"anomaly\": \"is_anomaly\"})\n",
    "#    df = df.astype({\"is_anomaly\": bool})\n",
    "#    return df"
   ]
  },
  {
   "cell_type": "code",
   "execution_count": 17,
   "id": "d708d1d4",
   "metadata": {},
   "outputs": [],
   "source": [
    "# Insert the path to a csv file from the yahoo dataset:\n",
    "yahoo_path = \"/data/yahoo/ydata-labeled-time-series-anomalies-v1_0/A1Benchmark/real_67.csv\"\n",
    "df = yahoo_data(yahoo_path)"
   ]
  },
  {
   "cell_type": "markdown",
   "id": "a1d85256",
   "metadata": {},
   "source": [
    "We create a connection to the database and insert and read the dataframe. This uses the connection the ManuBrain platform is delivered with. If no database is running, skip the next two cells. and uncomment the third."
   ]
  },
  {
   "cell_type": "code",
   "execution_count": null,
   "id": "84535d85",
   "metadata": {},
   "outputs": [],
   "source": [
    "from sqlalchemy import create_engine\n",
    "\n",
    "username = \"opcuauser\"\n",
    "password = \"opcuapassword123\"\n",
    "host = \"opcua-processor-postgres-s:5432\"\n",
    "dbname = \"opcuadb\"\n",
    "\n",
    "create_engine_str = \"postgresql://\" + username + \":\" + password + \"@\" + host + \"/\" + dbname\n",
    "\n",
    "engine = create_engine(create_engine_str)"
   ]
  },
  {
   "cell_type": "code",
   "execution_count": null,
   "id": "119eea0c",
   "metadata": {},
   "outputs": [],
   "source": [
    "df.to_sql(\"yahoo_67\", engine)\n",
    "train_df = pd.read_sql(\"select * from yahoo_67\", engine)"
   ]
  },
  {
   "cell_type": "code",
   "execution_count": 18,
   "id": "7cdfeb0c",
   "metadata": {},
   "outputs": [],
   "source": [
    "#train_df = df"
   ]
  },
  {
   "cell_type": "markdown",
   "id": "01ba92ab",
   "metadata": {},
   "source": [
    "This data can now immediatly be used by the detec"
   ]
  },
  {
   "cell_type": "code",
   "execution_count": 25,
   "id": "ce698f0b",
   "metadata": {},
   "outputs": [],
   "source": [
    "from mb_detect.models.classic import sklearn_dect\n",
    "model = sklearn_dect.Models(model_type=\"forest\", n_estimators=50).get_model()\n",
    "X = train_df[\"value\"].to_numpy().reshape(-1, 1)\n",
    "pred_outliers = model.fit_predict(X)"
   ]
  },
  {
   "cell_type": "code",
   "execution_count": 28,
   "id": "47e1cb44",
   "metadata": {},
   "outputs": [
    {
     "data": {
      "text/html": [
       "<div>\n",
       "<style scoped>\n",
       "    .dataframe tbody tr th:only-of-type {\n",
       "        vertical-align: middle;\n",
       "    }\n",
       "\n",
       "    .dataframe tbody tr th {\n",
       "        vertical-align: top;\n",
       "    }\n",
       "\n",
       "    .dataframe thead th {\n",
       "        text-align: right;\n",
       "    }\n",
       "</style>\n",
       "<table border=\"1\" class=\"dataframe\">\n",
       "  <thead>\n",
       "    <tr style=\"text-align: right;\">\n",
       "      <th></th>\n",
       "      <th>timestamp</th>\n",
       "      <th>value</th>\n",
       "      <th>is_anomaly</th>\n",
       "      <th>pred_outliers</th>\n",
       "    </tr>\n",
       "  </thead>\n",
       "  <tbody>\n",
       "    <tr>\n",
       "      <th>0</th>\n",
       "      <td>1</td>\n",
       "      <td>1</td>\n",
       "      <td>False</td>\n",
       "      <td>False</td>\n",
       "    </tr>\n",
       "    <tr>\n",
       "      <th>1</th>\n",
       "      <td>2</td>\n",
       "      <td>48</td>\n",
       "      <td>False</td>\n",
       "      <td>False</td>\n",
       "    </tr>\n",
       "    <tr>\n",
       "      <th>2</th>\n",
       "      <td>3</td>\n",
       "      <td>55</td>\n",
       "      <td>False</td>\n",
       "      <td>False</td>\n",
       "    </tr>\n",
       "    <tr>\n",
       "      <th>3</th>\n",
       "      <td>4</td>\n",
       "      <td>122</td>\n",
       "      <td>False</td>\n",
       "      <td>False</td>\n",
       "    </tr>\n",
       "    <tr>\n",
       "      <th>4</th>\n",
       "      <td>5</td>\n",
       "      <td>92</td>\n",
       "      <td>False</td>\n",
       "      <td>False</td>\n",
       "    </tr>\n",
       "    <tr>\n",
       "      <th>...</th>\n",
       "      <td>...</td>\n",
       "      <td>...</td>\n",
       "      <td>...</td>\n",
       "      <td>...</td>\n",
       "    </tr>\n",
       "    <tr>\n",
       "      <th>1418</th>\n",
       "      <td>1419</td>\n",
       "      <td>6742</td>\n",
       "      <td>True</td>\n",
       "      <td>True</td>\n",
       "    </tr>\n",
       "    <tr>\n",
       "      <th>1419</th>\n",
       "      <td>1420</td>\n",
       "      <td>8836</td>\n",
       "      <td>True</td>\n",
       "      <td>True</td>\n",
       "    </tr>\n",
       "    <tr>\n",
       "      <th>1420</th>\n",
       "      <td>1421</td>\n",
       "      <td>6509</td>\n",
       "      <td>True</td>\n",
       "      <td>True</td>\n",
       "    </tr>\n",
       "    <tr>\n",
       "      <th>1421</th>\n",
       "      <td>1422</td>\n",
       "      <td>9414</td>\n",
       "      <td>True</td>\n",
       "      <td>True</td>\n",
       "    </tr>\n",
       "    <tr>\n",
       "      <th>1422</th>\n",
       "      <td>1423</td>\n",
       "      <td>6657</td>\n",
       "      <td>True</td>\n",
       "      <td>True</td>\n",
       "    </tr>\n",
       "  </tbody>\n",
       "</table>\n",
       "<p>1423 rows × 4 columns</p>\n",
       "</div>"
      ],
      "text/plain": [
       "      timestamp  value  is_anomaly  pred_outliers\n",
       "0             1      1       False          False\n",
       "1             2     48       False          False\n",
       "2             3     55       False          False\n",
       "3             4    122       False          False\n",
       "4             5     92       False          False\n",
       "...         ...    ...         ...            ...\n",
       "1418       1419   6742        True           True\n",
       "1419       1420   8836        True           True\n",
       "1420       1421   6509        True           True\n",
       "1421       1422   9414        True           True\n",
       "1422       1423   6657        True           True\n",
       "\n",
       "[1423 rows x 4 columns]"
      ]
     },
     "execution_count": 28,
     "metadata": {},
     "output_type": "execute_result"
    }
   ],
   "source": [
    "result_df = train_df\n",
    "result_df[\"pred_outliers\"] = pred_outliers == -1\n",
    "result_df"
   ]
  }
 ],
 "metadata": {
  "kernelspec": {
   "display_name": "Python 3.8.8 64-bit ('manubrain': conda)",
   "language": "python",
   "name": "python38864bitmanubraincondad4c53a4353354d20a0a631ccae7dd72a"
  },
  "language_info": {
   "codemirror_mode": {
    "name": "ipython",
    "version": 3
   },
   "file_extension": ".py",
   "mimetype": "text/x-python",
   "name": "python",
   "nbconvert_exporter": "python",
   "pygments_lexer": "ipython3",
   "version": "3.8.8"
  }
 },
 "nbformat": 4,
 "nbformat_minor": 5
}
