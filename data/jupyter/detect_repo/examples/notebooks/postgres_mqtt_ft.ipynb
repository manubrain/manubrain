{
 "cells": [
  {
   "cell_type": "code",
   "execution_count": 1,
   "metadata": {},
   "outputs": [],
   "source": [
    "import ruamel.yaml as yaml\n",
    "\n",
    "import numpy as np\n",
    "import pandas as pd\n",
    "from manubrain.storage.postgres import PostgresDataStorage"
   ]
  },
  {
   "cell_type": "code",
   "execution_count": 2,
   "metadata": {},
   "outputs": [],
   "source": [
    "sql_config = \"\"\n",
    "broker_url = \"\"\n",
    "broker_port = 0"
   ]
  },
  {
   "cell_type": "code",
   "execution_count": 3,
   "metadata": {},
   "outputs": [],
   "source": [
    "from sqlalchemy import create_engine\n",
    "engine = create_engine(sql_config)"
   ]
  },
  {
   "cell_type": "code",
   "execution_count": 4,
   "metadata": {},
   "outputs": [],
   "source": [
    "import paho.mqtt.client as mqtt\n",
    "\n",
    "from datetime import datetime\n",
    "from pathlib import Path\n",
    "\n",
    "import json\n",
    "\n",
    "\n",
    "output = 0\n",
    "ts = datetime.now().strftime(\"%y-%m-%d-%H:%M:%S-%f\")\n",
    "logdir = \"/share/export/logs/\"\n",
    "\n",
    "def on_connect(client, userdata, flags, rc):\n",
    "    if rc == 0:\n",
    "        print(\"connected OK Returned code=\", rc)\n",
    "    else:\n",
    "        print(\"Bad connection Returned code=\", rc)\n",
    "        \n",
    "def on_message_log(client, userdata, message):\n",
    "    print([\"message [topic, qos, retain flag]=[\", message.topic, \", \"])\n",
    "    print([str(message.qos), \", \"])\n",
    "    print([str(message.retain), \"]\\n\"])\n",
    "    \n",
    "    if (str(message.topic) == \"i/cam\"):\n",
    "        print(\"message received=((ignore cam))\\n\")\n",
    "    else:\n",
    "        try: \n",
    "            print(\n",
    "                [\"message received=\" , str(message.payload.decode(\"utf-8\")), \"\\n\\n\"]\n",
    "            )\n",
    "        except UnicodeDecodeError:\n",
    "            print([\"UnicodeDecodeError: Cannot display message!\\n\\n\"])\n",
    "            \n",
    "def print_msg(client, userdata, message):\n",
    "    m = message.payload.decode(\"utf-8\") \n",
    "    j = json.loads(m)\n",
    "    df = pd.DataFrame(np.zeros((1, 9)))\n",
    "    print(j)\n",
    "    for i in range(8):\n",
    "        df[i] = j[\"input\" + str(i)]\n",
    "        df = df.rename(columns={i : \"value_\" + str(i)})\n",
    "    df = df.rename(columns = {8 : \"timestamp\"})\n",
    "    df[\"timestamp\"][0] = pd.to_datetime(j[\"ts\"])\n",
    "    df.to_sql('fh_sld', engine, if_exists=\"append\")\n",
    "\n",
    "def on_log(client, userdata, level, buf):\n",
    "    pass\n",
    "    # print(\"log: \", buf)\n",
    "\n",
    "def create_client_log():\n",
    "    client = mqtt.Client(\"\", True, None, mqtt.MQTTv31)\n",
    "    client.on_connect = on_connect  #bind call back function\n",
    "    client.on_log = on_log\n",
    "    client.on_message = print_msg  #attach function to callback\n",
    "    return client"
   ]
  },
  {
   "cell_type": "code",
   "execution_count": 5,
   "metadata": {},
   "outputs": [],
   "source": [
    "import time\n",
    "import paho.mqtt.client as mqtt\n",
    "\n",
    "\n",
    "\n",
    "def sub(t=20):\n",
    "    client = create_client_log()\n",
    "\n",
    "    client.connect(broker_url, broker_port)\n",
    "\n",
    "    client.loop_start()  # start the loop\n",
    "\n",
    "    # subscribe to everything\n",
    "    # client.subscribe(\"#\")\n",
    "\n",
    "    # subscribe to example channels\n",
    "    # REMARK: its better practice to subscribe in the on_connect method, because otherwise subscriptions are lost when dis- and reconnecting\n",
    "    client.subscribe(\"fh/input/sld\")\n",
    "    time.sleep(t)  # wait\n",
    "\n",
    "    client.loop_stop()  # stop the loop\n",
    "    client.disconnect()  # disconnect"
   ]
  },
  {
   "cell_type": "code",
   "execution_count": 6,
   "metadata": {},
   "outputs": [
    {
     "name": "stdout",
     "output_type": "stream",
     "text": [
      "connected OK Returned code= 0\n",
      "{'input0': 1, 'input1': 1619, 'input2': 1, 'input3': 0, 'input4': 0, 'input5': 1, 'input6': 1, 'input7': 1, 'ts': '2021-12-07T13:11:02.005Z'}\n"
     ]
    },
    {
     "name": "stderr",
     "output_type": "stream",
     "text": [
      "<ipython-input-4-5934f5afb286>:43: SettingWithCopyWarning: \n",
      "A value is trying to be set on a copy of a slice from a DataFrame\n",
      "\n",
      "See the caveats in the documentation: https://pandas.pydata.org/pandas-docs/stable/user_guide/indexing.html#returning-a-view-versus-a-copy\n",
      "  df[\"timestamp\"][0] = pd.to_datetime(j[\"ts\"])\n"
     ]
    },
    {
     "name": "stdout",
     "output_type": "stream",
     "text": [
      "{'input0': 1, 'input1': 1619, 'input2': 1, 'input3': 0, 'input4': 0, 'input5': 1, 'input6': 1, 'input7': 1, 'ts': '2021-12-07T13:11:03.004Z'}\n",
      "{'input0': 1, 'input1': 1624, 'input2': 1, 'input3': 0, 'input4': 0, 'input5': 1, 'input6': 1, 'input7': 1, 'ts': '2021-12-07T13:11:04.024Z'}\n",
      "{'input0': 1, 'input1': 1617, 'input2': 1, 'input3': 0, 'input4': 0, 'input5': 1, 'input6': 1, 'input7': 1, 'ts': '2021-12-07T13:11:05.004Z'}\n",
      "{'input0': 1, 'input1': 1617, 'input2': 1, 'input3': 0, 'input4': 0, 'input5': 1, 'input6': 1, 'input7': 1, 'ts': '2021-12-07T13:11:06.002Z'}\n",
      "{'input0': 1, 'input1': 1619, 'input2': 1, 'input3': 0, 'input4': 0, 'input5': 1, 'input6': 1, 'input7': 1, 'ts': '2021-12-07T13:11:07.030Z'}\n",
      "{'input0': 1, 'input1': 1619, 'input2': 1, 'input3': 0, 'input4': 0, 'input5': 1, 'input6': 1, 'input7': 1, 'ts': '2021-12-07T13:11:08.009Z'}\n",
      "{'input0': 1, 'input1': 1615, 'input2': 1, 'input3': 0, 'input4': 0, 'input5': 1, 'input6': 1, 'input7': 1, 'ts': '2021-12-07T13:11:09.006Z'}\n",
      "{'input0': 1, 'input1': 1622, 'input2': 1, 'input3': 0, 'input4': 0, 'input5': 1, 'input6': 1, 'input7': 1, 'ts': '2021-12-07T13:11:10.005Z'}\n",
      "{'input0': 1, 'input1': 1619, 'input2': 1, 'input3': 0, 'input4': 0, 'input5': 1, 'input6': 1, 'input7': 1, 'ts': '2021-12-07T13:11:11.064Z'}\n",
      "{'input0': 1, 'input1': 1622, 'input2': 1, 'input3': 0, 'input4': 0, 'input5': 1, 'input6': 1, 'input7': 1, 'ts': '2021-12-07T13:11:12.034Z'}\n",
      "{'input0': 1, 'input1': 1619, 'input2': 1, 'input3': 0, 'input4': 0, 'input5': 1, 'input6': 1, 'input7': 1, 'ts': '2021-12-07T13:11:13.012Z'}\n",
      "{'input0': 1, 'input1': 1619, 'input2': 1, 'input3': 0, 'input4': 0, 'input5': 1, 'input6': 1, 'input7': 1, 'ts': '2021-12-07T13:11:14.008Z'}\n",
      "{'input0': 1, 'input1': 1622, 'input2': 1, 'input3': 0, 'input4': 0, 'input5': 1, 'input6': 1, 'input7': 1, 'ts': '2021-12-07T13:11:15.018Z'}\n",
      "{'input0': 1, 'input1': 1624, 'input2': 1, 'input3': 0, 'input4': 0, 'input5': 1, 'input6': 1, 'input7': 1, 'ts': '2021-12-07T13:11:16.008Z'}\n",
      "{'input0': 1, 'input1': 1619, 'input2': 1, 'input3': 0, 'input4': 0, 'input5': 1, 'input6': 1, 'input7': 1, 'ts': '2021-12-07T13:11:17.027Z'}\n",
      "{'input0': 1, 'input1': 1617, 'input2': 1, 'input3': 0, 'input4': 0, 'input5': 1, 'input6': 1, 'input7': 1, 'ts': '2021-12-07T13:11:18.019Z'}\n",
      "{'input0': 1, 'input1': 1619, 'input2': 1, 'input3': 0, 'input4': 0, 'input5': 1, 'input6': 1, 'input7': 1, 'ts': '2021-12-07T13:11:19.049Z'}\n",
      "{'input0': 1, 'input1': 1617, 'input2': 1, 'input3': 0, 'input4': 0, 'input5': 1, 'input6': 1, 'input7': 1, 'ts': '2021-12-07T13:11:20.009Z'}\n",
      "{'input0': 1, 'input1': 1617, 'input2': 1, 'input3': 0, 'input4': 0, 'input5': 1, 'input6': 1, 'input7': 1, 'ts': '2021-12-07T13:11:21.005Z'}\n",
      "{'input0': 1, 'input1': 1619, 'input2': 1, 'input3': 0, 'input4': 0, 'input5': 1, 'input6': 1, 'input7': 1, 'ts': '2021-12-07T13:11:22.014Z'}\n"
     ]
    }
   ],
   "source": [
    "sub()"
   ]
  },
  {
   "cell_type": "code",
   "execution_count": 7,
   "metadata": {},
   "outputs": [
    {
     "name": "stdout",
     "output_type": "stream",
     "text": [
      "    index  value_0  value_1  value_2  value_3  value_4  value_5  value_6  \\\n",
      "0       0        1     1624        1        0        0        1        1   \n",
      "1       0        1     1624        1        0        0        1        1   \n",
      "2       0        1     1624        1        0        0        1        1   \n",
      "3       0        1     1624        1        0        0        1        1   \n",
      "4       0        1     1624        1        0        0        1        1   \n",
      "5       0        1     1624        1        0        0        1        1   \n",
      "6       0        1     1680        1        0        0        1        1   \n",
      "7       0        1     1624        1        0        0        1        1   \n",
      "8       0        1     1624        1        0        0        1        1   \n",
      "9       0        1     1626        1        0        0        1        1   \n",
      "10      0        1     1624        1        0        0        1        1   \n",
      "11      0        1     1626        1        0        0        1        1   \n",
      "12      0        1     1624        1        0        0        1        1   \n",
      "13      0        1     1624        1        0        0        1        1   \n",
      "14      0        1     1624        1        0        0        1        1   \n",
      "15      0        1     1682        1        0        0        1        1   \n",
      "16      0        1     1624        1        0        0        1        1   \n",
      "17      0        1     1677        1        0        0        1        1   \n",
      "18      0        1     1624        1        0        0        1        1   \n",
      "19      0        1     1629        1        0        0        1        1   \n",
      "20      0        1     1624        1        0        0        1        1   \n",
      "21      0        1     1619        1        0        0        1        1   \n",
      "22      0        1     1619        1        0        0        1        1   \n",
      "23      0        1     1624        1        0        0        1        1   \n",
      "24      0        1     1617        1        0        0        1        1   \n",
      "25      0        1     1617        1        0        0        1        1   \n",
      "26      0        1     1619        1        0        0        1        1   \n",
      "27      0        1     1619        1        0        0        1        1   \n",
      "28      0        1     1615        1        0        0        1        1   \n",
      "29      0        1     1622        1        0        0        1        1   \n",
      "30      0        1     1619        1        0        0        1        1   \n",
      "31      0        1     1622        1        0        0        1        1   \n",
      "32      0        1     1619        1        0        0        1        1   \n",
      "33      0        1     1619        1        0        0        1        1   \n",
      "34      0        1     1622        1        0        0        1        1   \n",
      "35      0        1     1624        1        0        0        1        1   \n",
      "36      0        1     1619        1        0        0        1        1   \n",
      "37      0        1     1617        1        0        0        1        1   \n",
      "38      0        1     1619        1        0        0        1        1   \n",
      "39      0        1     1617        1        0        0        1        1   \n",
      "40      0        1     1617        1        0        0        1        1   \n",
      "41      0        1     1619        1        0        0        1        1   \n",
      "\n",
      "    value_7               timestamp  \n",
      "0         1 2021-12-07 12:55:48.070  \n",
      "1         1 2021-12-07 12:55:49.030  \n",
      "2         1 2021-12-07 12:55:50.131  \n",
      "3         1 2021-12-07 12:55:51.010  \n",
      "4         1 2021-12-07 12:55:52.010  \n",
      "5         1 2021-12-07 12:55:53.090  \n",
      "6         1 2021-12-07 12:55:54.060  \n",
      "7         1 2021-12-07 12:55:55.009  \n",
      "8         1 2021-12-07 12:55:56.066  \n",
      "9         1 2021-12-07 12:55:57.006  \n",
      "10        1 2021-12-07 12:55:58.097  \n",
      "11        1 2021-12-07 12:55:59.006  \n",
      "12        1 2021-12-07 12:56:00.004  \n",
      "13        1 2021-12-07 12:56:01.011  \n",
      "14        1 2021-12-07 12:56:02.003  \n",
      "15        1 2021-12-07 12:56:03.051  \n",
      "16        1 2021-12-07 12:56:04.012  \n",
      "17        1 2021-12-07 12:56:05.030  \n",
      "18        1 2021-12-07 12:56:06.091  \n",
      "19        1 2021-12-07 12:56:07.040  \n",
      "20        1 2021-12-07 12:56:08.029  \n",
      "21        1 2021-12-07 13:11:02.005  \n",
      "22        1 2021-12-07 13:11:03.004  \n",
      "23        1 2021-12-07 13:11:04.024  \n",
      "24        1 2021-12-07 13:11:05.004  \n",
      "25        1 2021-12-07 13:11:06.002  \n",
      "26        1 2021-12-07 13:11:07.030  \n",
      "27        1 2021-12-07 13:11:08.009  \n",
      "28        1 2021-12-07 13:11:09.006  \n",
      "29        1 2021-12-07 13:11:10.005  \n",
      "30        1 2021-12-07 13:11:11.064  \n",
      "31        1 2021-12-07 13:11:12.034  \n",
      "32        1 2021-12-07 13:11:13.012  \n",
      "33        1 2021-12-07 13:11:14.008  \n",
      "34        1 2021-12-07 13:11:15.018  \n",
      "35        1 2021-12-07 13:11:16.008  \n",
      "36        1 2021-12-07 13:11:17.027  \n",
      "37        1 2021-12-07 13:11:18.019  \n",
      "38        1 2021-12-07 13:11:19.049  \n",
      "39        1 2021-12-07 13:11:20.009  \n",
      "40        1 2021-12-07 13:11:21.005  \n",
      "41        1 2021-12-07 13:11:22.014  \n"
     ]
    }
   ],
   "source": [
    "new_df = pd.read_sql('fh_sld', engine)\n",
    "print(new_df)"
   ]
  },
  {
   "cell_type": "code",
   "execution_count": null,
   "metadata": {},
   "outputs": [],
   "source": []
  }
 ],
 "metadata": {
  "interpreter": {
   "hash": "9098992461e75780da700cfc8e6cef3d577e1432c4d0d2cc3ca5e931e306f450"
  },
  "kernelspec": {
   "display_name": "Python 3",
   "language": "python",
   "name": "python3"
  },
  "language_info": {
   "codemirror_mode": {
    "name": "ipython",
    "version": 3
   },
   "file_extension": ".py",
   "mimetype": "text/x-python",
   "name": "python",
   "nbconvert_exporter": "python",
   "pygments_lexer": "ipython3",
   "version": "3.8.8"
  }
 },
 "nbformat": 4,
 "nbformat_minor": 4
}
