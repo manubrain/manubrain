{
 "cells": [
  {
   "cell_type": "code",
   "execution_count": 1,
   "id": "826e7483",
   "metadata": {},
   "outputs": [],
   "source": [
    "# CONFIGURATION\n",
    "import influxdb_client, os, time, math, random\n",
    "from influxdb_client import InfluxDBClient, Point, WritePrecision\n",
    "from influxdb_client.client.write_api import SYNCHRONOUS\n",
    "\n",
    "token = os.environ.get(\"INFLUXDB_TOKEN\")\n",
    "org = \"manubrain\"\n",
    "url = \"http://influxdb:8086\" # we must use the port 8086 here as we are inside the container (8000 is only from external)\n",
    "\n",
    "client = influxdb_client.InfluxDBClient(url=url, token=token, org=org)"
   ]
  },
  {
   "cell_type": "code",
   "execution_count": 2,
   "id": "a5c31fd6",
   "metadata": {},
   "outputs": [],
   "source": [
    "def write_to_influx(bucket, number_of_measurements, anomalie=False, number_of_variables=10, seconds_between_measurements=0.1, noise_interval=(-0.1, 0.1)):\n",
    "    write_api = client.write_api(write_options=SYNCHRONOUS)\n",
    "\n",
    "    # non-anomalie phase   \n",
    "    for measurement_index in range(number_of_measurements):\n",
    "        if anomalie:\n",
    "            variables_dict = {f\"field_{variable_index}\": random.uniform(*noise_interval) for variable_index in range(number_of_variables)}\n",
    "        else:\n",
    "            variables_dict = {f\"field_{variable_index}\": math.sin(measurement_index / 10 + variable_index / 10) + random.uniform(*noise_interval) for variable_index in range(number_of_variables)}\n",
    "        point_dict = {\n",
    "            \"measurement\": \"anomalie_detection\",\n",
    "            \"fields\": variables_dict\n",
    "        }\n",
    "        write_api.write(bucket=bucket, org=\"manubrain\", record=Point.from_dict(point_dict))\n",
    "        time.sleep(seconds_between_measurements)"
   ]
  },
  {
   "cell_type": "code",
   "execution_count": 5,
   "id": "2ce0e913",
   "metadata": {},
   "outputs": [],
   "source": [
    "# Sinus Data (non-anomlie)\n",
    "bucket=\"sinus\"  # create buckets at http://localhost:8000/ (user: root, password: verysecret)\n",
    "number_of_variables = 10\n",
    "number_of_non_anomalie_measurements = 1000\n",
    "number_of_anomalie_measurements = 100\n",
    "seconds_between_measurements = 0.1\n",
    "noise_interval = (-0.1, 0.1)\n",
    "\n",
    "# non-anomalie phase\n",
    "write_to_influx(bucket, number_of_non_anomalie_measurements, False, number_of_variables, seconds_between_measurements, noise_interval)\n",
    "\n",
    "# anomalie phase\n",
    "write_to_influx(bucket, number_of_anomalie_measurements, True, number_of_variables, seconds_between_measurements, (-1.0, 1.0))"
   ]
  }
 ],
 "metadata": {
  "kernelspec": {
   "display_name": "Python 3 (ipykernel)",
   "language": "python",
   "name": "python3"
  },
  "language_info": {
   "codemirror_mode": {
    "name": "ipython",
    "version": 3
   },
   "file_extension": ".py",
   "mimetype": "text/x-python",
   "name": "python",
   "nbconvert_exporter": "python",
   "pygments_lexer": "ipython3",
   "version": "3.10.6"
  }
 },
 "nbformat": 4,
 "nbformat_minor": 5
}
